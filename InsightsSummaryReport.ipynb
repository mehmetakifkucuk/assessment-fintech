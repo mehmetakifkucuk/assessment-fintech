{
 "cells": [
  {
   "cell_type": "code",
   "execution_count": 0,
   "metadata": {
    "application/vnd.databricks.v1+cell": {
     "cellMetadata": {
      "byteLimit": 2048000,
      "rowLimit": 10000
     },
     "collapsed": true,
     "inputWidgets": {},
     "nuid": "6eea2892-ab80-45a0-9ba0-143a4664324b",
     "showTitle": false,
     "tableResultSettingsMap": {},
     "title": ""
    }
   },
   "outputs": [],
   "source": [
    "# Must Run \n",
    "# %pip install google-cloud-bigquery\n"
   ]
  },
  {
   "cell_type": "code",
   "execution_count": 0,
   "metadata": {
    "application/vnd.databricks.v1+cell": {
     "cellMetadata": {
      "byteLimit": 2048000,
      "rowLimit": 10000
     },
     "inputWidgets": {},
     "nuid": "fb3ab0a2-69cd-4441-8896-78939965f4c5",
     "showTitle": false,
     "tableResultSettingsMap": {},
     "title": ""
    }
   },
   "outputs": [],
   "source": [
    "# key_json key_bq.json shared separately by email, easier to copy the key content here"
   ]
  },
  {
   "cell_type": "markdown",
   "metadata": {
    "application/vnd.databricks.v1+cell": {
     "cellMetadata": {},
     "inputWidgets": {},
     "nuid": "76b4da76-15e4-49d9-828b-e7c44de75e3c",
     "showTitle": false,
     "tableResultSettingsMap": {},
     "title": ""
    }
   },
   "source": [
    "## Fetch Data from BigQuery"
   ]
  },
  {
   "cell_type": "code",
   "execution_count": 0,
   "metadata": {
    "application/vnd.databricks.v1+cell": {
     "cellMetadata": {
      "byteLimit": 2048000,
      "rowLimit": 10000
     },
     "inputWidgets": {},
     "nuid": "37b45e85-fe87-489c-8b50-335323863a60",
     "showTitle": false,
     "tableResultSettingsMap": {},
     "title": ""
    }
   },
   "outputs": [
    {
     "data": {
      "text/html": [
       "<style scoped>\n",
       "  .table-result-container {\n",
       "    max-height: 300px;\n",
       "    overflow: auto;\n",
       "  }\n",
       "  table, th, td {\n",
       "    border: 1px solid black;\n",
       "    border-collapse: collapse;\n",
       "  }\n",
       "  th, td {\n",
       "    padding: 5px;\n",
       "  }\n",
       "  th {\n",
       "    text-align: left;\n",
       "  }\n",
       "</style><div class='table-result-container'><table class='table-result'><thead style='background-color: white'><tr><th>company_id</th><th>most_spending_category</th><th>total_amount_aed</th></tr></thead><tbody><tr><td>CMP001</td><td>SaaS</td><td>2785872.5500000003</td></tr><tr><td>CMP002</td><td>SaaS</td><td>2837546.62</td></tr><tr><td>CMP003</td><td>SaaS</td><td>1981343.1400000008</td></tr><tr><td>CMP004</td><td>SaaS</td><td>1879495.8699999999</td></tr><tr><td>CMP005</td><td>Advertisement</td><td>1886159.5299999996</td></tr></tbody></table></div>"
      ]
     },
     "metadata": {
      "application/vnd.databricks.v1+output": {
       "addedWidgets": {},
       "aggData": [],
       "aggError": "",
       "aggOverflow": false,
       "aggSchema": [],
       "aggSeriesLimitReached": false,
       "aggType": "",
       "arguments": {},
       "columnCustomDisplayInfos": {},
       "data": [
        [
         "CMP001",
         "SaaS",
         2785872.5500000003
        ],
        [
         "CMP002",
         "SaaS",
         2837546.62
        ],
        [
         "CMP003",
         "SaaS",
         1981343.1400000008
        ],
        [
         "CMP004",
         "SaaS",
         1879495.8699999999
        ],
        [
         "CMP005",
         "Advertisement",
         1886159.5299999996
        ]
       ],
       "datasetInfos": [],
       "dbfsResultPath": null,
       "isJsonSchema": true,
       "metadata": {},
       "overflow": false,
       "plotOptions": {
        "customPlotOptions": {},
        "displayType": "table",
        "pivotAggregation": null,
        "pivotColumns": null,
        "xColumns": null,
        "yColumns": null
       },
       "removedWidgets": [],
       "schema": [
        {
         "metadata": "{}",
         "name": "company_id",
         "type": "\"string\""
        },
        {
         "metadata": "{}",
         "name": "most_spending_category",
         "type": "\"string\""
        },
        {
         "metadata": "{}",
         "name": "total_amount_aed",
         "type": "\"double\""
        }
       ],
       "type": "table"
      }
     },
     "output_type": "display_data"
    },
    {
     "data": {
      "text/html": [
       "<style scoped>\n",
       "  .table-result-container {\n",
       "    max-height: 300px;\n",
       "    overflow: auto;\n",
       "  }\n",
       "  table, th, td {\n",
       "    border: 1px solid black;\n",
       "    border-collapse: collapse;\n",
       "  }\n",
       "  th, td {\n",
       "    padding: 5px;\n",
       "  }\n",
       "  th {\n",
       "    text-align: left;\n",
       "  }\n",
       "</style><div class='table-result-container'><table class='table-result'><thead style='background-color: white'><tr><th>year_month</th><th>cnt</th><th>total_amount_aed</th></tr></thead><tbody><tr><td>2024-01-01</td><td>2117</td><td>1.2382313540000007E7</td></tr><tr><td>2024-02-01</td><td>2106</td><td>1.0441782530000018E7</td></tr><tr><td>2024-03-01</td><td>2031</td><td>1.1460764110000014E7</td></tr><tr><td>2024-04-01</td><td>2079</td><td>1.1620232799999982E7</td></tr><tr><td>2024-05-01</td><td>2121</td><td>1.2363859760000004E7</td></tr></tbody></table></div>"
      ]
     },
     "metadata": {
      "application/vnd.databricks.v1+output": {
       "addedWidgets": {},
       "aggData": [],
       "aggError": "",
       "aggOverflow": false,
       "aggSchema": [],
       "aggSeriesLimitReached": false,
       "aggType": "",
       "arguments": {},
       "columnCustomDisplayInfos": {},
       "data": [
        [
         "2024-01-01",
         2117,
         12382313.540000007
        ],
        [
         "2024-02-01",
         2106,
         10441782.530000018
        ],
        [
         "2024-03-01",
         2031,
         11460764.110000014
        ],
        [
         "2024-04-01",
         2079,
         11620232.799999982
        ],
        [
         "2024-05-01",
         2121,
         12363859.760000004
        ]
       ],
       "datasetInfos": [],
       "dbfsResultPath": null,
       "isJsonSchema": true,
       "metadata": {},
       "overflow": false,
       "plotOptions": {
        "customPlotOptions": {},
        "displayType": "table",
        "pivotAggregation": null,
        "pivotColumns": null,
        "xColumns": null,
        "yColumns": null
       },
       "removedWidgets": [],
       "schema": [
        {
         "metadata": "{}",
         "name": "year_month",
         "type": "\"date\""
        },
        {
         "metadata": "{}",
         "name": "cnt",
         "type": "\"long\""
        },
        {
         "metadata": "{}",
         "name": "total_amount_aed",
         "type": "\"double\""
        }
       ],
       "type": "table"
      }
     },
     "output_type": "display_data"
    },
    {
     "data": {
      "text/html": [
       "<style scoped>\n",
       "  .table-result-container {\n",
       "    max-height: 300px;\n",
       "    overflow: auto;\n",
       "  }\n",
       "  table, th, td {\n",
       "    border: 1px solid black;\n",
       "    border-collapse: collapse;\n",
       "  }\n",
       "  th, td {\n",
       "    padding: 5px;\n",
       "  }\n",
       "  th {\n",
       "    text-align: left;\n",
       "  }\n",
       "</style><div class='table-result-container'><table class='table-result'><thead style='background-color: white'><tr><th>company_id</th><th>cnt</th><th>billed_amount_aed</th><th>avg_amount_aed</th></tr></thead><tbody><tr><td>CMP010</td><td>46</td><td>1772084.7900000003</td><td>5129.8716181229765</td></tr><tr><td>CMP013</td><td>85</td><td>1671764.4599999997</td><td>4396.584778761066</td></tr><tr><td>CMP007</td><td>35</td><td>2037551.29</td><td>5177.941345177659</td></tr><tr><td>CMP002</td><td>20</td><td>1570834.5300000005</td><td>6027.990015503872</td></tr><tr><td>CMP014</td><td>69</td><td>1574921.04</td><td>4656.684212999215</td></tr></tbody></table></div>"
      ]
     },
     "metadata": {
      "application/vnd.databricks.v1+output": {
       "addedWidgets": {},
       "aggData": [],
       "aggError": "",
       "aggOverflow": false,
       "aggSchema": [],
       "aggSeriesLimitReached": false,
       "aggType": "",
       "arguments": {},
       "columnCustomDisplayInfos": {},
       "data": [
        [
         "CMP010",
         46,
         1772084.7900000003,
         5129.8716181229765
        ],
        [
         "CMP013",
         85,
         1671764.4599999997,
         4396.584778761066
        ],
        [
         "CMP007",
         35,
         2037551.29,
         5177.941345177659
        ],
        [
         "CMP002",
         20,
         1570834.5300000005,
         6027.990015503872
        ],
        [
         "CMP014",
         69,
         1574921.04,
         4656.684212999215
        ]
       ],
       "datasetInfos": [],
       "dbfsResultPath": null,
       "isJsonSchema": true,
       "metadata": {},
       "overflow": false,
       "plotOptions": {
        "customPlotOptions": {},
        "displayType": "table",
        "pivotAggregation": null,
        "pivotColumns": null,
        "xColumns": null,
        "yColumns": null
       },
       "removedWidgets": [],
       "schema": [
        {
         "metadata": "{}",
         "name": "company_id",
         "type": "\"string\""
        },
        {
         "metadata": "{}",
         "name": "cnt",
         "type": "\"long\""
        },
        {
         "metadata": "{}",
         "name": "billed_amount_aed",
         "type": "\"double\""
        },
        {
         "metadata": "{}",
         "name": "avg_amount_aed",
         "type": "\"double\""
        }
       ],
       "type": "table"
      }
     },
     "output_type": "display_data"
    },
    {
     "data": {
      "text/html": [
       "<style scoped>\n",
       "  .table-result-container {\n",
       "    max-height: 300px;\n",
       "    overflow: auto;\n",
       "  }\n",
       "  table, th, td {\n",
       "    border: 1px solid black;\n",
       "    border-collapse: collapse;\n",
       "  }\n",
       "  th, td {\n",
       "    padding: 5px;\n",
       "  }\n",
       "  th {\n",
       "    text-align: left;\n",
       "  }\n",
       "</style><div class='table-result-container'><table class='table-result'><thead style='background-color: white'><tr><th>class</th><th>cnt</th></tr></thead><tbody><tr><td>Less Risky | At least 1 transaction in foreign exchange</td><td>15</td></tr><tr><td>Super Risky | More than 100 transactions are foreign, no local transactions</td><td>5</td></tr></tbody></table></div>"
      ]
     },
     "metadata": {
      "application/vnd.databricks.v1+output": {
       "addedWidgets": {},
       "aggData": [],
       "aggError": "",
       "aggOverflow": false,
       "aggSchema": [],
       "aggSeriesLimitReached": false,
       "aggType": "",
       "arguments": {},
       "columnCustomDisplayInfos": {},
       "data": [
        [
         "Less Risky | At least 1 transaction in foreign exchange",
         15
        ],
        [
         "Super Risky | More than 100 transactions are foreign, no local transactions",
         5
        ]
       ],
       "datasetInfos": [],
       "dbfsResultPath": null,
       "isJsonSchema": true,
       "metadata": {},
       "overflow": false,
       "plotOptions": {
        "customPlotOptions": {},
        "displayType": "table",
        "pivotAggregation": null,
        "pivotColumns": null,
        "xColumns": null,
        "yColumns": null
       },
       "removedWidgets": [],
       "schema": [
        {
         "metadata": "{}",
         "name": "class",
         "type": "\"string\""
        },
        {
         "metadata": "{}",
         "name": "cnt",
         "type": "\"long\""
        }
       ],
       "type": "table"
      }
     },
     "output_type": "display_data"
    },
    {
     "data": {
      "text/html": [
       "<style scoped>\n",
       "  .table-result-container {\n",
       "    max-height: 300px;\n",
       "    overflow: auto;\n",
       "  }\n",
       "  table, th, td {\n",
       "    border: 1px solid black;\n",
       "    border-collapse: collapse;\n",
       "  }\n",
       "  th, td {\n",
       "    padding: 5px;\n",
       "  }\n",
       "  th {\n",
       "    text-align: left;\n",
       "  }\n",
       "</style><div class='table-result-container'><table class='table-result'><thead style='background-color: white'><tr><th>compare</th><th>value</th><th>user_id</th><th>merchant</th><th>avg_trx_per_user</th><th>cnt</th></tr></thead><tbody><tr><td>NOK | >=2.5</td><td>2.940594059405941</td><td>USR0078</td><td>Air Arabia</td><td>4.08080808080808</td><td>12</td></tr><tr><td>NOK | >=2.5</td><td>2.5882352941176467</td><td>USR0028</td><td>Amazon</td><td>4.636363636363637</td><td>12</td></tr><tr><td>NOK | >=2.5</td><td>2.582608695652174</td><td>USR0048</td><td>Retool</td><td>5.808080808080808</td><td>15</td></tr><tr><td>NOK | >=2.5</td><td>2.577006507592191</td><td>USR0039</td><td>Waitrose</td><td>4.656565656565657</td><td>12</td></tr><tr><td>NOK | >=2.5</td><td>2.577006507592191</td><td>USR0043</td><td>Waitrose</td><td>4.656565656565657</td><td>12</td></tr></tbody></table></div>"
      ]
     },
     "metadata": {
      "application/vnd.databricks.v1+output": {
       "addedWidgets": {},
       "aggData": [],
       "aggError": "",
       "aggOverflow": false,
       "aggSchema": [],
       "aggSeriesLimitReached": false,
       "aggType": "",
       "arguments": {},
       "columnCustomDisplayInfos": {},
       "data": [
        [
         "NOK | >=2.5",
         2.940594059405941,
         "USR0078",
         "Air Arabia",
         4.08080808080808,
         12
        ],
        [
         "NOK | >=2.5",
         2.5882352941176467,
         "USR0028",
         "Amazon",
         4.636363636363637,
         12
        ],
        [
         "NOK | >=2.5",
         2.582608695652174,
         "USR0048",
         "Retool",
         5.808080808080808,
         15
        ],
        [
         "NOK | >=2.5",
         2.577006507592191,
         "USR0039",
         "Waitrose",
         4.656565656565657,
         12
        ],
        [
         "NOK | >=2.5",
         2.577006507592191,
         "USR0043",
         "Waitrose",
         4.656565656565657,
         12
        ]
       ],
       "datasetInfos": [],
       "dbfsResultPath": null,
       "isJsonSchema": true,
       "metadata": {},
       "overflow": false,
       "plotOptions": {
        "customPlotOptions": {},
        "displayType": "table",
        "pivotAggregation": null,
        "pivotColumns": null,
        "xColumns": null,
        "yColumns": null
       },
       "removedWidgets": [],
       "schema": [
        {
         "metadata": "{}",
         "name": "compare",
         "type": "\"string\""
        },
        {
         "metadata": "{}",
         "name": "value",
         "type": "\"double\""
        },
        {
         "metadata": "{}",
         "name": "user_id",
         "type": "\"string\""
        },
        {
         "metadata": "{}",
         "name": "merchant",
         "type": "\"string\""
        },
        {
         "metadata": "{}",
         "name": "avg_trx_per_user",
         "type": "\"double\""
        },
        {
         "metadata": "{}",
         "name": "cnt",
         "type": "\"long\""
        }
       ],
       "type": "table"
      }
     },
     "output_type": "display_data"
    },
    {
     "data": {
      "text/html": [
       "<style scoped>\n",
       "  .table-result-container {\n",
       "    max-height: 300px;\n",
       "    overflow: auto;\n",
       "  }\n",
       "  table, th, td {\n",
       "    border: 1px solid black;\n",
       "    border-collapse: collapse;\n",
       "  }\n",
       "  th, td {\n",
       "    padding: 5px;\n",
       "  }\n",
       "  th {\n",
       "    text-align: left;\n",
       "  }\n",
       "</style><div class='table-result-container'><table class='table-result'><thead style='background-color: white'><tr><th>transaction_id</th><th>company_id</th><th>user_id</th><th>transaction_date</th><th>merchant</th><th>category</th><th>amount</th><th>currency</th><th>billed_amount_AED</th><th>status</th><th>q1</th><th>q3</th><th>iqr_range</th><th>upper_limit</th></tr></thead><tbody><tr><td>TXN13449</td><td>CMP019</td><td>USR0088</td><td>2024-12-31</td><td>Microsoft*Xbox</td><td>Entertainment</td><td>86441.61600000001</td><td>USD</td><td>317240.73</td><td>PENDING</td><td>1612.97</td><td>6988.31</td><td>16126.02</td><td>23114.33</td></tr><tr><td>TXN03083</td><td>CMP002</td><td>USR0016</td><td>2024-12-31</td><td>GooglePlay</td><td>SaaS</td><td>80026.434</td><td>USD</td><td>293697.01</td><td>APPROVED</td><td>1612.97</td><td>6988.31</td><td>16126.02</td><td>23114.33</td></tr><tr><td>TXN13698</td><td>CMP005</td><td>USR0025</td><td>2024-12-31</td><td>Facebook</td><td>SaaS</td><td>79105.03199999999</td><td>USD</td><td>290315.47</td><td>DECLINED</td><td>1612.97</td><td>6988.31</td><td>16126.02</td><td>23114.33</td></tr><tr><td>TXN02758</td><td>CMP005</td><td>USR0081</td><td>2024-08-31</td><td>Microsoft*Xbox</td><td>Advertisement</td><td>76922.368</td><td>USD</td><td>282305.09</td><td>APPROVED</td><td>1612.97</td><td>6988.31</td><td>16126.02</td><td>23114.33</td></tr><tr><td>TXN13905</td><td>CMP015</td><td>USR0015</td><td>2024-12-31</td><td>GooglePlay</td><td>Entertainment</td><td>76277.214</td><td>USD</td><td>279937.38</td><td>DECLINED</td><td>1612.97</td><td>6988.31</td><td>16126.02</td><td>23114.33</td></tr></tbody></table></div>"
      ]
     },
     "metadata": {
      "application/vnd.databricks.v1+output": {
       "addedWidgets": {},
       "aggData": [],
       "aggError": "",
       "aggOverflow": false,
       "aggSchema": [],
       "aggSeriesLimitReached": false,
       "aggType": "",
       "arguments": {},
       "columnCustomDisplayInfos": {},
       "data": [
        [
         "TXN13449",
         "CMP019",
         "USR0088",
         "2024-12-31",
         "Microsoft*Xbox",
         "Entertainment",
         86441.61600000001,
         "USD",
         317240.73,
         "PENDING",
         1612.97,
         6988.31,
         16126.02,
         23114.33
        ],
        [
         "TXN03083",
         "CMP002",
         "USR0016",
         "2024-12-31",
         "GooglePlay",
         "SaaS",
         80026.434,
         "USD",
         293697.01,
         "APPROVED",
         1612.97,
         6988.31,
         16126.02,
         23114.33
        ],
        [
         "TXN13698",
         "CMP005",
         "USR0025",
         "2024-12-31",
         "Facebook",
         "SaaS",
         79105.03199999999,
         "USD",
         290315.47,
         "DECLINED",
         1612.97,
         6988.31,
         16126.02,
         23114.33
        ],
        [
         "TXN02758",
         "CMP005",
         "USR0081",
         "2024-08-31",
         "Microsoft*Xbox",
         "Advertisement",
         76922.368,
         "USD",
         282305.09,
         "APPROVED",
         1612.97,
         6988.31,
         16126.02,
         23114.33
        ],
        [
         "TXN13905",
         "CMP015",
         "USR0015",
         "2024-12-31",
         "GooglePlay",
         "Entertainment",
         76277.214,
         "USD",
         279937.38,
         "DECLINED",
         1612.97,
         6988.31,
         16126.02,
         23114.33
        ]
       ],
       "datasetInfos": [],
       "dbfsResultPath": null,
       "isJsonSchema": true,
       "metadata": {},
       "overflow": false,
       "plotOptions": {
        "customPlotOptions": {},
        "displayType": "table",
        "pivotAggregation": null,
        "pivotColumns": null,
        "xColumns": null,
        "yColumns": null
       },
       "removedWidgets": [],
       "schema": [
        {
         "metadata": "{}",
         "name": "transaction_id",
         "type": "\"string\""
        },
        {
         "metadata": "{}",
         "name": "company_id",
         "type": "\"string\""
        },
        {
         "metadata": "{}",
         "name": "user_id",
         "type": "\"string\""
        },
        {
         "metadata": "{}",
         "name": "transaction_date",
         "type": "\"date\""
        },
        {
         "metadata": "{}",
         "name": "merchant",
         "type": "\"string\""
        },
        {
         "metadata": "{}",
         "name": "category",
         "type": "\"string\""
        },
        {
         "metadata": "{}",
         "name": "amount",
         "type": "\"double\""
        },
        {
         "metadata": "{}",
         "name": "currency",
         "type": "\"string\""
        },
        {
         "metadata": "{}",
         "name": "billed_amount_AED",
         "type": "\"double\""
        },
        {
         "metadata": "{}",
         "name": "status",
         "type": "\"string\""
        },
        {
         "metadata": "{}",
         "name": "q1",
         "type": "\"double\""
        },
        {
         "metadata": "{}",
         "name": "q3",
         "type": "\"double\""
        },
        {
         "metadata": "{}",
         "name": "iqr_range",
         "type": "\"double\""
        },
        {
         "metadata": "{}",
         "name": "upper_limit",
         "type": "\"double\""
        }
       ],
       "type": "table"
      }
     },
     "output_type": "display_data"
    },
    {
     "data": {
      "text/html": [
       "<style scoped>\n",
       "  .table-result-container {\n",
       "    max-height: 300px;\n",
       "    overflow: auto;\n",
       "  }\n",
       "  table, th, td {\n",
       "    border: 1px solid black;\n",
       "    border-collapse: collapse;\n",
       "  }\n",
       "  th, td {\n",
       "    padding: 5px;\n",
       "  }\n",
       "  th {\n",
       "    text-align: left;\n",
       "  }\n",
       "</style><div class='table-result-container'><table class='table-result'><thead style='background-color: white'><tr><th>company_id</th></tr></thead><tbody><tr><td>CMP016</td></tr><tr><td>CMP020</td></tr><tr><td>CMP017</td></tr><tr><td>CMP018</td></tr><tr><td>CMP002</td></tr></tbody></table></div>"
      ]
     },
     "metadata": {
      "application/vnd.databricks.v1+output": {
       "addedWidgets": {},
       "aggData": [],
       "aggError": "",
       "aggOverflow": false,
       "aggSchema": [],
       "aggSeriesLimitReached": false,
       "aggType": "",
       "arguments": {},
       "columnCustomDisplayInfos": {},
       "data": [
        [
         "CMP016"
        ],
        [
         "CMP020"
        ],
        [
         "CMP017"
        ],
        [
         "CMP018"
        ],
        [
         "CMP002"
        ]
       ],
       "datasetInfos": [],
       "dbfsResultPath": null,
       "isJsonSchema": true,
       "metadata": {},
       "overflow": false,
       "plotOptions": {
        "customPlotOptions": {},
        "displayType": "table",
        "pivotAggregation": null,
        "pivotColumns": null,
        "xColumns": null,
        "yColumns": null
       },
       "removedWidgets": [],
       "schema": [
        {
         "metadata": "{}",
         "name": "company_id",
         "type": "\"string\""
        }
       ],
       "type": "table"
      }
     },
     "output_type": "display_data"
    },
    {
     "data": {
      "text/html": [
       "<style scoped>\n",
       "  .table-result-container {\n",
       "    max-height: 300px;\n",
       "    overflow: auto;\n",
       "  }\n",
       "  table, th, td {\n",
       "    border: 1px solid black;\n",
       "    border-collapse: collapse;\n",
       "  }\n",
       "  th, td {\n",
       "    padding: 5px;\n",
       "  }\n",
       "  th {\n",
       "    text-align: left;\n",
       "  }\n",
       "</style><div class='table-result-container'><table class='table-result'><thead style='background-color: white'><tr><th>category</th><th>merchant</th><th>total_amount_aed</th><th>cnt</th></tr></thead><tbody><tr><td>Advertisement</td><td>Tiktok</td><td>8468296.72</td><td>1594</td></tr><tr><td>Advertisement</td><td>LinkedIn</td><td>8201682.779999994</td><td>1547</td></tr><tr><td>Advertisement</td><td>GoogleAds</td><td>8008076.360000008</td><td>1516</td></tr><tr><td>Advertisement</td><td>Meta</td><td>7987815.009999994</td><td>1510</td></tr><tr><td>Retail</td><td>GooglePlay</td><td>3454195.8199999994</td><td>478</td></tr></tbody></table></div>"
      ]
     },
     "metadata": {
      "application/vnd.databricks.v1+output": {
       "addedWidgets": {},
       "aggData": [],
       "aggError": "",
       "aggOverflow": false,
       "aggSchema": [],
       "aggSeriesLimitReached": false,
       "aggType": "",
       "arguments": {},
       "columnCustomDisplayInfos": {},
       "data": [
        [
         "Advertisement",
         "Tiktok",
         8468296.72,
         1594
        ],
        [
         "Advertisement",
         "LinkedIn",
         8201682.779999994,
         1547
        ],
        [
         "Advertisement",
         "GoogleAds",
         8008076.360000008,
         1516
        ],
        [
         "Advertisement",
         "Meta",
         7987815.009999994,
         1510
        ],
        [
         "Retail",
         "GooglePlay",
         3454195.8199999994,
         478
        ]
       ],
       "datasetInfos": [],
       "dbfsResultPath": null,
       "isJsonSchema": true,
       "metadata": {},
       "overflow": false,
       "plotOptions": {
        "customPlotOptions": {},
        "displayType": "table",
        "pivotAggregation": null,
        "pivotColumns": null,
        "xColumns": null,
        "yColumns": null
       },
       "removedWidgets": [],
       "schema": [
        {
         "metadata": "{}",
         "name": "category",
         "type": "\"string\""
        },
        {
         "metadata": "{}",
         "name": "merchant",
         "type": "\"string\""
        },
        {
         "metadata": "{}",
         "name": "total_amount_aed",
         "type": "\"double\""
        },
        {
         "metadata": "{}",
         "name": "cnt",
         "type": "\"long\""
        }
       ],
       "type": "table"
      }
     },
     "output_type": "display_data"
    }
   ],
   "source": [
    "from google.cloud import bigquery\n",
    "from google.oauth2 import service_account\n",
    "import json\n",
    "import pandas as pd\n",
    "\n",
    "# Kimlik doğrulama\n",
    "credentials = service_account.Credentials.from_service_account_info(\n",
    "    key_json, scopes=[\"https://www.googleapis.com/auth/cloud-platform\"]\n",
    ")\n",
    "\n",
    "# BigQuery istemcisini oluştur\n",
    "client = bigquery.Client(credentials=credentials, project=key_json[\"project_id\"])\n",
    "\n",
    "# query = \"SELECT * FROM `pemo-assessment-462223.pemo.transaction` LIMIT 10\"\n",
    "\n",
    "query_1_1 = \"\"\"\n",
    "with \n",
    "a as \n",
    "(\n",
    "select company_id as company_id, category, sum(billed_amount_aed) as total_amount_aed, count(1) number_of_trx \n",
    "from pemo-assessment-462223.pemo.transaction group by 1,2 order by 1,3 desc\n",
    "),\n",
    "b as \n",
    "(\n",
    "select *, row_number () over (partition by company_id order by total_amount_aed desc) rn from a order by 1,3,2\n",
    ")\n",
    "select company_id, category as most_spending_category, total_amount_aed from b where rn = 1 \n",
    "\"\"\"\n",
    "\n",
    "query_1_2 =\"\"\"\n",
    "select date_trunc(transaction_date,month) as year_month, count(1) cnt, sum(billed_amount_aed) total_amount_aed\n",
    "from pemo-assessment-462223.pemo.transaction group by 1 order by 1\n",
    "\"\"\"\n",
    "\n",
    "query_1_3 =\"\"\"\n",
    "with \n",
    "company_profile as \n",
    "(\n",
    "select company_id, count(1) cnt, sum(billed_amount_aed) total_amount_aed, avg(billed_amount_aed) avg_amount_aed \n",
    "from pemo-assessment-462223.pemo.transaction \n",
    "group by 1 order by 1\n",
    "),\n",
    "billed_delta as \n",
    "(\n",
    "select t.*, cp.avg_amount_aed, cp.avg_amount_aed - billed_amount_aed as delta from pemo-assessment-462223.pemo.transaction t join company_profile cp on t.company_id = cp.company_id where t.company_id is not null\n",
    ")\n",
    "select company_id, count(1) cnt,\n",
    "sum(billed_amount_aed) billed_amount_aed,\n",
    "avg(avg_amount_aed) avg_amount_aed\n",
    "from billed_delta where abs(delta) >= 2 * avg_amount_aed\n",
    "group by 1\n",
    "\n",
    "-- select \n",
    "-- case \n",
    "\n",
    "--   when abs(delta) / avg_amount_aed >= 2 and abs(delta) / avg_amount_aed < 3 then '2-3' \n",
    "--   when abs(delta) / avg_amount_aed >= 3 and abs(delta) / avg_amount_aed < 4 then '3-4'\n",
    "--   when abs(delta) / avg_amount_aed >= 4 and abs(delta) / avg_amount_aed < 5 then '4-5'\n",
    "--   when abs(delta) / avg_amount_aed >= 5 and abs(delta) / avg_amount_aed < 6 then '5-6'\n",
    "--   else '6+'\n",
    "-- end as delta_over_avg, \n",
    "-- count(1) cnt,\n",
    "-- sum(billed_amount_aed) billed_amount_aed,\n",
    "-- avg(avg_amount_aed) avg_amount_aed\n",
    "-- -- count(1) \n",
    "-- from billed_delta where abs(delta) >= 2 * avg_amount_aed\n",
    "-- group by 1\n",
    "\n",
    "\n",
    "\"\"\"\n",
    "\n",
    "query_2_1 =\"\"\"\n",
    "with \n",
    "a as \n",
    "(\n",
    "select  company_id, \n",
    "        sum(case when currency != 'AED' then 0 else 1 end) as number_of_local_trx,\n",
    "        sum(case when currency != 'AED' then 0 else billed_amount_aed end) as aed_amount_of_local_trx,\n",
    "        sum(case when currency != 'AED' then 1 else 0 end) as number_of_foreign_trx,\n",
    "        sum(case when currency != 'AED' then billed_amount_aed else 0 end) as aed_amount_of_foreign_trx\n",
    "        -- count(1) cnt, sum(billed_amount_aed) billed_amount_aed \n",
    "from    pemo-assessment-462223.pemo.transaction\n",
    "-- where currency != 'AED'\n",
    "group by 1 \n",
    "),\n",
    "b as \n",
    "(\n",
    "select  \n",
    "case \n",
    "  when number_of_local_trx = 0 and number_of_foreign_trx > 100 then 'Super Risky | More than 100 transactions are foreign, no local transactions' \n",
    "  when number_of_local_trx >= 0 and number_of_local_trx < 10 and number_of_foreign_trx > 100 then 'Risky | More than 100 transactions are foreign, 0-10 local transactions' \n",
    "  when number_of_foreign_trx > 0 then 'Less Risky | At least 1 transaction in foreign exchange' \n",
    "else 'L' end as class, * from a\n",
    ")\n",
    "-- select count(1) cnt from a\n",
    "select class, count(1) cnt from b group by 1\n",
    "\"\"\"\n",
    "\n",
    "query_2_2 =\"\"\"\n",
    "with \n",
    "merchant_profile as \n",
    "(\n",
    "select merchant, count(1) cnt, count(distinct user_id) number_of_users from pemo-assessment-462223.pemo.transaction group by 1\n",
    "),\n",
    "mp_2 as\n",
    "(select merchant, cnt/number_of_users as avg_trx_per_user from merchant_profile),\n",
    "user_merchant as \n",
    "(\n",
    "select user_id, merchant, count(1) cnt from pemo-assessment-462223.pemo.transaction group by 1,2\n",
    "),\n",
    "a as \n",
    "(\n",
    "select user_id, coalesce(a.merchant,b.merchant) merchant, avg_trx_per_user, cnt from user_merchant a left join mp_2 b on a.merchant = b.merchant\n",
    "),\n",
    "b as \n",
    "(\n",
    "select case when cnt / avg_trx_per_user <  1.0 then 'OK | <1.0'\n",
    "            when cnt / avg_trx_per_user >= 1.0 and cnt / avg_trx_per_user < 1.5 then 'OK | >=1.0-1.5'\n",
    "            when cnt / avg_trx_per_user >= 1.5 and cnt / avg_trx_per_user < 2.0 then 'OKish | >=1.5-2.0'\n",
    "            when cnt / avg_trx_per_user >= 2.0 and cnt / avg_trx_per_user < 2.5 then 'NOK | >=2.0-2.5' \n",
    "            when cnt / avg_trx_per_user >= 2.5 then 'NOK | >=2.5' \n",
    "            else null end \n",
    "            as compare, cnt / avg_trx_per_user as value,\n",
    "            * from a\n",
    ") \n",
    "-- select compare, count(1) cnt from b group by 1\n",
    "select * from b where compare like 'NOK%' order by value desc \n",
    "\"\"\"\n",
    "\n",
    "query_2_3 =\"\"\"\n",
    "with \n",
    "percentiles as \n",
    "(\n",
    "  select \n",
    "    approx_quantiles(billed_amount_aed, 100)[offset(25)] AS q1,\n",
    "    approx_quantiles(billed_amount_aed, 100)[offset(75)] AS q3\n",
    "  from  pemo-assessment-462223.pemo.transaction\n",
    "),\n",
    "limits as \n",
    "(\n",
    "select  \n",
    "      t.*,\n",
    "      p.q1,\n",
    "      p.q3,\n",
    "      (p.q3 - p.q1) * 3           as iqr_range,\n",
    "      p.q3 + (p.q3 - p.q1) * 3    as upper_limit\n",
    "from  pemo-assessment-462223.pemo.transaction t\n",
    "cross join percentiles p\n",
    ")\n",
    "select    *\n",
    "from      limits\n",
    "where     billed_amount_aed > upper_limit\n",
    "order by  billed_amount_aed desc\n",
    "\"\"\"\n",
    "\n",
    "query_3_1 =\"\"\"\n",
    "with \n",
    "-- max total transaction amount company\n",
    "a as    \n",
    "(select company_id, status, sum(billed_amount_aed) as total_amount_aed from pemo-assessment-462223.pemo.transaction group by 1,2 order by 1,2 desc),\n",
    "b as \n",
    "(select * from a where status = 'APPROVED' order by 3 desc),\n",
    "c as \n",
    "(select company_id, total_amount_aed from b order by 2 desc limit 20),\n",
    "-- select company_id, count(1) cnt from b group by 1 having count(1) >1 \n",
    "d as \n",
    "\n",
    "(\n",
    "-- Most frequetly used category amounts\n",
    "select company_id, sum(billed_amount_aed) total_amount_aed \n",
    "from pemo-assessment-462223.pemo.transaction where status = 'APPROVED' and category in \n",
    "(select category from (select category, sum(billed_amount_aed) total_amount_aed from pemo-assessment-462223.pemo.transaction where status = 'APPROVED' group by 1 order by 2 desc limit 1))\n",
    "group by 1 order by 2 desc limit 20\n",
    "),\n",
    "e as \n",
    "(\n",
    "select * from c union all\n",
    "select * from d\n",
    ")\n",
    "select distinct company_id from e\n",
    "\"\"\"\n",
    "\n",
    "query_3_2 =\"\"\"\n",
    "select      category, merchant, sum(billed_amount_aed) AS total_amount_aed, count(1) as cnt\n",
    "from        pemo-assessment-462223.pemo.transaction\n",
    "group by    category, merchant\n",
    "order by    3 desc\n",
    "limit 40\n",
    "\"\"\"\n",
    "\n",
    "# Execute Query and to DF\n",
    "query_job_1_1 = client.query(query_1_1)\n",
    "results_1_1 = query_job_1_1.result()\n",
    "data_1_1 = [dict(row) for row in results_1_1]\n",
    "df_1_1 = pd.DataFrame(data_1_1)\n",
    "display(df_1_1.head())\n",
    "\n",
    "query_job_1_2 = client.query(query_1_2)\n",
    "results_1_2 = query_job_1_2.result()\n",
    "data_1_2 = [dict(row) for row in results_1_2]\n",
    "df_1_2 = pd.DataFrame(data_1_2)\n",
    "display(df_1_2.head())\n",
    "\n",
    "query_job_1_3 = client.query(query_1_3)\n",
    "results_1_3 = query_job_1_3.result()\n",
    "data_1_3 = [dict(row) for row in results_1_3]\n",
    "df_1_3 = pd.DataFrame(data_1_3)\n",
    "display(df_1_3.head())\n",
    "\n",
    "query_job_2_1 = client.query(query_2_1)\n",
    "results_2_1 = query_job_2_1.result()\n",
    "data_2_1 = [dict(row) for row in results_2_1]\n",
    "df_2_1 = pd.DataFrame(data_2_1)\n",
    "display(df_2_1.head())\n",
    "\n",
    "query_job_2_2 = client.query(query_2_2)\n",
    "results_2_2 = query_job_2_2.result()\n",
    "data_2_2 = [dict(row) for row in results_2_2]\n",
    "df_2_2 = pd.DataFrame(data_2_2)\n",
    "display(df_2_2.head())\n",
    "\n",
    "query_job_2_3 = client.query(query_2_3)\n",
    "results_2_3 = query_job_2_3.result()\n",
    "data_2_3 = [dict(row) for row in results_2_3]\n",
    "df_2_3 = pd.DataFrame(data_2_3)\n",
    "display(df_2_3.head())\n",
    "\n",
    "query_job_3_1 = client.query(query_3_1)\n",
    "results_3_1 = query_job_3_1.result()\n",
    "data_3_1 = [dict(row) for row in results_3_1]\n",
    "df_3_1 = pd.DataFrame(data_3_1)\n",
    "display(df_3_1.head())\n",
    "\n",
    "query_job_3_2 = client.query(query_3_2)\n",
    "results_3_2 = query_job_3_2.result()\n",
    "data_3_2 = [dict(row) for row in results_3_2]\n",
    "df_3_2 = pd.DataFrame(data_3_2)\n",
    "display(df_3_2.head())\n"
   ]
  },
  {
   "cell_type": "markdown",
   "metadata": {
    "application/vnd.databricks.v1+cell": {
     "cellMetadata": {},
     "inputWidgets": {},
     "nuid": "0ba5799c-81b1-4f14-b19a-fe6ee84a18c1",
     "showTitle": false,
     "tableResultSettingsMap": {},
     "title": ""
    }
   },
   "source": [
    "## Summary Report with Insights"
   ]
  },
  {
   "cell_type": "code",
   "execution_count": 0,
   "metadata": {
    "application/vnd.databricks.v1+cell": {
     "cellMetadata": {
      "byteLimit": 2048000,
      "rowLimit": 10000
     },
     "inputWidgets": {},
     "nuid": "2a96cf10-9009-42d7-8ae3-db8246d247dd",
     "showTitle": false,
     "tableResultSettingsMap": {},
     "title": ""
    }
   },
   "outputs": [
    {
     "name": "stdout",
     "output_type": "stream",
     "text": [
      "Summary Report with Insights\n",
      "Question 1.1: What are the top spending categories across companies?\n",
      "Answer 1.1: By finding the top spending category for each company, amount distribution for top spending category is as follows\n"
     ]
    },
    {
     "data": {
      "image/png": "[encoded data removed]"
     },
     "metadata": {
      "application/vnd.databricks.v1+output": {
       "addedWidgets": {},
       "arguments": {},
       "data": "data:image/png;base64,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\n",
       "datasetInfos": [],
       "metadata": {},
       "removedWidgets": [],
       "type": "image"
      }
     },
     "output_type": "display_data"
    },
    {
     "name": "stdout",
     "output_type": "stream",
     "text": [
      "Question 1.2. Are there seasonal trends in spending?\n",
      "Answer 1.2. There is significant increase in number of transactions on 2024-05 and 2024-10 and similarly for the spending amount 2024-07 and 2024-12, but on the other hand, there seems like there is no positive correlation between the number of transactions and total spending amount.\n"
     ]
    },
    {
     "data": {
      "image/png": "[encoded data removed]"
     },
     "metadata": {
      "application/vnd.databricks.v1+output": {
       "addedWidgets": {},
       "arguments": {},
       "data": "data:image/png;base64,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\n",
       "datasetInfos": [],
       "metadata": {},
       "removedWidgets": [],
       "type": "image"
      }
     },
     "output_type": "display_data"
    },
    {
     "name": "stdout",
     "output_type": "stream",
     "text": [
      "Question 1.3: Which companies have unusually high spending?\n",
      "Answer 1.3: By profiling the companies as per their average transation count or amount, we can find a way to assess whether there is an unusual pattern is being recorded, below you can find the top 5 highest unusual spending.\n"
     ]
    },
    {
     "data": {
      "text/html": [
       "<style scoped>\n",
       "  .table-result-container {\n",
       "    max-height: 300px;\n",
       "    overflow: auto;\n",
       "  }\n",
       "  table, th, td {\n",
       "    border: 1px solid black;\n",
       "    border-collapse: collapse;\n",
       "  }\n",
       "  th, td {\n",
       "    padding: 5px;\n",
       "  }\n",
       "  th {\n",
       "    text-align: left;\n",
       "  }\n",
       "</style><div class='table-result-container'><table class='table-result'><thead style='background-color: white'><tr><th>company_id</th><th>cnt</th><th>billed_amount_aed</th><th>avg_amount_aed</th></tr></thead><tbody><tr><td>CMP010</td><td>46</td><td>1772084.7900000003</td><td>5129.8716181229765</td></tr><tr><td>CMP013</td><td>85</td><td>1671764.4599999997</td><td>4396.584778761066</td></tr><tr><td>CMP007</td><td>35</td><td>2037551.29</td><td>5177.941345177659</td></tr><tr><td>CMP002</td><td>20</td><td>1570834.5300000005</td><td>6027.990015503872</td></tr><tr><td>CMP014</td><td>69</td><td>1574921.04</td><td>4656.684212999215</td></tr></tbody></table></div>"
      ]
     },
     "metadata": {
      "application/vnd.databricks.v1+output": {
       "addedWidgets": {},
       "aggData": [],
       "aggError": "",
       "aggOverflow": false,
       "aggSchema": [],
       "aggSeriesLimitReached": false,
       "aggType": "",
       "arguments": {},
       "columnCustomDisplayInfos": {},
       "data": [
        [
         "CMP010",
         46,
         1772084.7900000003,
         5129.8716181229765
        ],
        [
         "CMP013",
         85,
         1671764.4599999997,
         4396.584778761066
        ],
        [
         "CMP007",
         35,
         2037551.29,
         5177.941345177659
        ],
        [
         "CMP002",
         20,
         1570834.5300000005,
         6027.990015503872
        ],
        [
         "CMP014",
         69,
         1574921.04,
         4656.684212999215
        ]
       ],
       "datasetInfos": [],
       "dbfsResultPath": null,
       "isJsonSchema": true,
       "metadata": {},
       "overflow": false,
       "plotOptions": {
        "customPlotOptions": {},
        "displayType": "table",
        "pivotAggregation": null,
        "pivotColumns": null,
        "xColumns": null,
        "yColumns": null
       },
       "removedWidgets": [],
       "schema": [
        {
         "metadata": "{}",
         "name": "company_id",
         "type": "\"string\""
        },
        {
         "metadata": "{}",
         "name": "cnt",
         "type": "\"long\""
        },
        {
         "metadata": "{}",
         "name": "billed_amount_aed",
         "type": "\"double\""
        },
        {
         "metadata": "{}",
         "name": "avg_amount_aed",
         "type": "\"double\""
        }
       ],
       "type": "table"
      }
     },
     "output_type": "display_data"
    },
    {
     "name": "stdout",
     "output_type": "stream",
     "text": [
      "Question 2.1: Identify companies where a large percentage of transactions are in a foreign currency—could this indicate international misuse?\n",
      "Answer 2.1: What is suspicious is not all the foreign currency transactions, it is suspicious if user never made local trassaction bu made only foreign transactions\n"
     ]
    },
    {
     "data": {
      "image/png": "[encoded data removed]"
     },
     "metadata": {
      "application/vnd.databricks.v1+output": {
       "addedWidgets": {},
       "arguments": {},
       "data": "data:image/png;base64,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\n",
       "datasetInfos": [],
       "metadata": {},
       "removedWidgets": [],
       "type": "image"
      }
     },
     "output_type": "display_data"
    },
    {
     "name": "stdout",
     "output_type": "stream",
     "text": [
      "Question 2.2. Are there users transacting at a high rate with a single merchant?\n",
      "Answer 2.2: Again, by creating profile for a user by checkign the previous trasnactions, hikes can be easily identified.\n"
     ]
    },
    {
     "data": {
      "text/html": [
       "<style scoped>\n",
       "  .table-result-container {\n",
       "    max-height: 300px;\n",
       "    overflow: auto;\n",
       "  }\n",
       "  table, th, td {\n",
       "    border: 1px solid black;\n",
       "    border-collapse: collapse;\n",
       "  }\n",
       "  th, td {\n",
       "    padding: 5px;\n",
       "  }\n",
       "  th {\n",
       "    text-align: left;\n",
       "  }\n",
       "</style><div class='table-result-container'><table class='table-result'><thead style='background-color: white'><tr><th>compare</th><th>value</th><th>user_id</th><th>merchant</th><th>avg_trx_per_user</th><th>cnt</th></tr></thead><tbody><tr><td>NOK | >=2.5</td><td>2.940594059405941</td><td>USR0078</td><td>Air Arabia</td><td>4.08080808080808</td><td>12</td></tr><tr><td>NOK | >=2.5</td><td>2.5882352941176467</td><td>USR0028</td><td>Amazon</td><td>4.636363636363637</td><td>12</td></tr><tr><td>NOK | >=2.5</td><td>2.582608695652174</td><td>USR0048</td><td>Retool</td><td>5.808080808080808</td><td>15</td></tr><tr><td>NOK | >=2.5</td><td>2.577006507592191</td><td>USR0039</td><td>Waitrose</td><td>4.656565656565657</td><td>12</td></tr><tr><td>NOK | >=2.5</td><td>2.577006507592191</td><td>USR0043</td><td>Waitrose</td><td>4.656565656565657</td><td>12</td></tr></tbody></table></div>"
      ]
     },
     "metadata": {
      "application/vnd.databricks.v1+output": {
       "addedWidgets": {},
       "aggData": [],
       "aggError": "",
       "aggOverflow": false,
       "aggSchema": [],
       "aggSeriesLimitReached": false,
       "aggType": "",
       "arguments": {},
       "columnCustomDisplayInfos": {},
       "data": [
        [
         "NOK | >=2.5",
         2.940594059405941,
         "USR0078",
         "Air Arabia",
         4.08080808080808,
         12
        ],
        [
         "NOK | >=2.5",
         2.5882352941176467,
         "USR0028",
         "Amazon",
         4.636363636363637,
         12
        ],
        [
         "NOK | >=2.5",
         2.582608695652174,
         "USR0048",
         "Retool",
         5.808080808080808,
         15
        ],
        [
         "NOK | >=2.5",
         2.577006507592191,
         "USR0039",
         "Waitrose",
         4.656565656565657,
         12
        ],
        [
         "NOK | >=2.5",
         2.577006507592191,
         "USR0043",
         "Waitrose",
         4.656565656565657,
         12
        ]
       ],
       "datasetInfos": [],
       "dbfsResultPath": null,
       "isJsonSchema": true,
       "metadata": {},
       "overflow": false,
       "plotOptions": {
        "customPlotOptions": {},
        "displayType": "table",
        "pivotAggregation": null,
        "pivotColumns": null,
        "xColumns": null,
        "yColumns": null
       },
       "removedWidgets": [],
       "schema": [
        {
         "metadata": "{}",
         "name": "compare",
         "type": "\"string\""
        },
        {
         "metadata": "{}",
         "name": "value",
         "type": "\"double\""
        },
        {
         "metadata": "{}",
         "name": "user_id",
         "type": "\"string\""
        },
        {
         "metadata": "{}",
         "name": "merchant",
         "type": "\"string\""
        },
        {
         "metadata": "{}",
         "name": "avg_trx_per_user",
         "type": "\"double\""
        },
        {
         "metadata": "{}",
         "name": "cnt",
         "type": "\"long\""
        }
       ],
       "type": "table"
      }
     },
     "output_type": "display_data"
    },
    {
     "name": "stdout",
     "output_type": "stream",
     "text": [
      "Question 2.3. Identify outlier transactions (e.g., transactions that are significantly larger than the norm) that are greater than 3x the interquartile range (IQR) from the median transaction value.\n",
      "Answer 2.3: by using statistical calculations (approx_quantiles) some limits are being calculated, and according to this limit we identified the outlier.\n"
     ]
    },
    {
     "data": {
      "text/html": [
       "<style scoped>\n",
       "  .table-result-container {\n",
       "    max-height: 300px;\n",
       "    overflow: auto;\n",
       "  }\n",
       "  table, th, td {\n",
       "    border: 1px solid black;\n",
       "    border-collapse: collapse;\n",
       "  }\n",
       "  th, td {\n",
       "    padding: 5px;\n",
       "  }\n",
       "  th {\n",
       "    text-align: left;\n",
       "  }\n",
       "</style><div class='table-result-container'><table class='table-result'><thead style='background-color: white'><tr><th>transaction_id</th><th>company_id</th><th>user_id</th><th>transaction_date</th><th>merchant</th><th>category</th><th>amount</th><th>currency</th><th>billed_amount_AED</th><th>status</th><th>q1</th><th>q3</th><th>iqr_range</th><th>upper_limit</th></tr></thead><tbody><tr><td>TXN13449</td><td>CMP019</td><td>USR0088</td><td>2024-12-31</td><td>Microsoft*Xbox</td><td>Entertainment</td><td>86441.61600000001</td><td>USD</td><td>317240.73</td><td>PENDING</td><td>1612.97</td><td>6988.31</td><td>16126.02</td><td>23114.33</td></tr><tr><td>TXN03083</td><td>CMP002</td><td>USR0016</td><td>2024-12-31</td><td>GooglePlay</td><td>SaaS</td><td>80026.434</td><td>USD</td><td>293697.01</td><td>APPROVED</td><td>1612.97</td><td>6988.31</td><td>16126.02</td><td>23114.33</td></tr><tr><td>TXN13698</td><td>CMP005</td><td>USR0025</td><td>2024-12-31</td><td>Facebook</td><td>SaaS</td><td>79105.03199999999</td><td>USD</td><td>290315.47</td><td>DECLINED</td><td>1612.97</td><td>6988.31</td><td>16126.02</td><td>23114.33</td></tr><tr><td>TXN02758</td><td>CMP005</td><td>USR0081</td><td>2024-08-31</td><td>Microsoft*Xbox</td><td>Advertisement</td><td>76922.368</td><td>USD</td><td>282305.09</td><td>APPROVED</td><td>1612.97</td><td>6988.31</td><td>16126.02</td><td>23114.33</td></tr><tr><td>TXN13905</td><td>CMP015</td><td>USR0015</td><td>2024-12-31</td><td>GooglePlay</td><td>Entertainment</td><td>76277.214</td><td>USD</td><td>279937.38</td><td>DECLINED</td><td>1612.97</td><td>6988.31</td><td>16126.02</td><td>23114.33</td></tr></tbody></table></div>"
      ]
     },
     "metadata": {
      "application/vnd.databricks.v1+output": {
       "addedWidgets": {},
       "aggData": [],
       "aggError": "",
       "aggOverflow": false,
       "aggSchema": [],
       "aggSeriesLimitReached": false,
       "aggType": "",
       "arguments": {},
       "columnCustomDisplayInfos": {},
       "data": [
        [
         "TXN13449",
         "CMP019",
         "USR0088",
         "2024-12-31",
         "Microsoft*Xbox",
         "Entertainment",
         86441.61600000001,
         "USD",
         317240.73,
         "PENDING",
         1612.97,
         6988.31,
         16126.02,
         23114.33
        ],
        [
         "TXN03083",
         "CMP002",
         "USR0016",
         "2024-12-31",
         "GooglePlay",
         "SaaS",
         80026.434,
         "USD",
         293697.01,
         "APPROVED",
         1612.97,
         6988.31,
         16126.02,
         23114.33
        ],
        [
         "TXN13698",
         "CMP005",
         "USR0025",
         "2024-12-31",
         "Facebook",
         "SaaS",
         79105.03199999999,
         "USD",
         290315.47,
         "DECLINED",
         1612.97,
         6988.31,
         16126.02,
         23114.33
        ],
        [
         "TXN02758",
         "CMP005",
         "USR0081",
         "2024-08-31",
         "Microsoft*Xbox",
         "Advertisement",
         76922.368,
         "USD",
         282305.09,
         "APPROVED",
         1612.97,
         6988.31,
         16126.02,
         23114.33
        ],
        [
         "TXN13905",
         "CMP015",
         "USR0015",
         "2024-12-31",
         "GooglePlay",
         "Entertainment",
         76277.214,
         "USD",
         279937.38,
         "DECLINED",
         1612.97,
         6988.31,
         16126.02,
         23114.33
        ]
       ],
       "datasetInfos": [],
       "dbfsResultPath": null,
       "isJsonSchema": true,
       "metadata": {},
       "overflow": false,
       "plotOptions": {
        "customPlotOptions": {},
        "displayType": "table",
        "pivotAggregation": null,
        "pivotColumns": null,
        "xColumns": null,
        "yColumns": null
       },
       "removedWidgets": [],
       "schema": [
        {
         "metadata": "{}",
         "name": "transaction_id",
         "type": "\"string\""
        },
        {
         "metadata": "{}",
         "name": "company_id",
         "type": "\"string\""
        },
        {
         "metadata": "{}",
         "name": "user_id",
         "type": "\"string\""
        },
        {
         "metadata": "{}",
         "name": "transaction_date",
         "type": "\"date\""
        },
        {
         "metadata": "{}",
         "name": "merchant",
         "type": "\"string\""
        },
        {
         "metadata": "{}",
         "name": "category",
         "type": "\"string\""
        },
        {
         "metadata": "{}",
         "name": "amount",
         "type": "\"double\""
        },
        {
         "metadata": "{}",
         "name": "currency",
         "type": "\"string\""
        },
        {
         "metadata": "{}",
         "name": "billed_amount_AED",
         "type": "\"double\""
        },
        {
         "metadata": "{}",
         "name": "status",
         "type": "\"string\""
        },
        {
         "metadata": "{}",
         "name": "q1",
         "type": "\"double\""
        },
        {
         "metadata": "{}",
         "name": "q3",
         "type": "\"double\""
        },
        {
         "metadata": "{}",
         "name": "iqr_range",
         "type": "\"double\""
        },
        {
         "metadata": "{}",
         "name": "upper_limit",
         "type": "\"double\""
        }
       ],
       "type": "table"
      }
     },
     "output_type": "display_data"
    },
    {
     "name": "stdout",
     "output_type": "stream",
     "text": [
      "Question 3.1. Based on spending patterns, which companies or industries could be ideal for upselling new financial products?\n",
      "Answer 3.1: There is no direct correlation between the merchant/categories and financial products. Thats why, the companies which have spent the maximum amount and SaaS used companies can be ideal, as they are very keen on spending.\n"
     ]
    },
    {
     "data": {
      "text/html": [
       "<style scoped>\n",
       "  .table-result-container {\n",
       "    max-height: 300px;\n",
       "    overflow: auto;\n",
       "  }\n",
       "  table, th, td {\n",
       "    border: 1px solid black;\n",
       "    border-collapse: collapse;\n",
       "  }\n",
       "  th, td {\n",
       "    padding: 5px;\n",
       "  }\n",
       "  th {\n",
       "    text-align: left;\n",
       "  }\n",
       "</style><div class='table-result-container'><table class='table-result'><thead style='background-color: white'><tr><th>company_id</th></tr></thead><tbody><tr><td>CMP016</td></tr><tr><td>CMP020</td></tr><tr><td>CMP017</td></tr><tr><td>CMP018</td></tr><tr><td>CMP002</td></tr></tbody></table></div>"
      ]
     },
     "metadata": {
      "application/vnd.databricks.v1+output": {
       "addedWidgets": {},
       "aggData": [],
       "aggError": "",
       "aggOverflow": false,
       "aggSchema": [],
       "aggSeriesLimitReached": false,
       "aggType": "",
       "arguments": {},
       "columnCustomDisplayInfos": {},
       "data": [
        [
         "CMP016"
        ],
        [
         "CMP020"
        ],
        [
         "CMP017"
        ],
        [
         "CMP018"
        ],
        [
         "CMP002"
        ]
       ],
       "datasetInfos": [],
       "dbfsResultPath": null,
       "isJsonSchema": true,
       "metadata": {},
       "overflow": false,
       "plotOptions": {
        "customPlotOptions": {},
        "displayType": "table",
        "pivotAggregation": null,
        "pivotColumns": null,
        "xColumns": null,
        "yColumns": null
       },
       "removedWidgets": [],
       "schema": [
        {
         "metadata": "{}",
         "name": "company_id",
         "type": "\"string\""
        }
       ],
       "type": "table"
      }
     },
     "output_type": "display_data"
    },
    {
     "name": "stdout",
     "output_type": "stream",
     "text": [
      "Question 3.2. If Pemo were to offer discounts or rewards, which categories/merchants would be the best to target?\n",
      "Answer 3.2: Similarly, we have tracked the most spending merchant ant category transactions.\n"
     ]
    },
    {
     "data": {
      "text/html": [
       "<style scoped>\n",
       "  .table-result-container {\n",
       "    max-height: 300px;\n",
       "    overflow: auto;\n",
       "  }\n",
       "  table, th, td {\n",
       "    border: 1px solid black;\n",
       "    border-collapse: collapse;\n",
       "  }\n",
       "  th, td {\n",
       "    padding: 5px;\n",
       "  }\n",
       "  th {\n",
       "    text-align: left;\n",
       "  }\n",
       "</style><div class='table-result-container'><table class='table-result'><thead style='background-color: white'><tr><th>category</th><th>merchant</th><th>total_amount_aed</th><th>cnt</th></tr></thead><tbody><tr><td>Advertisement</td><td>Tiktok</td><td>8468296.72</td><td>1594</td></tr><tr><td>Advertisement</td><td>LinkedIn</td><td>8201682.779999994</td><td>1547</td></tr><tr><td>Advertisement</td><td>GoogleAds</td><td>8008076.360000008</td><td>1516</td></tr><tr><td>Advertisement</td><td>Meta</td><td>7987815.009999994</td><td>1510</td></tr><tr><td>Retail</td><td>GooglePlay</td><td>3454195.8199999994</td><td>478</td></tr></tbody></table></div>"
      ]
     },
     "metadata": {
      "application/vnd.databricks.v1+output": {
       "addedWidgets": {},
       "aggData": [],
       "aggError": "",
       "aggOverflow": false,
       "aggSchema": [],
       "aggSeriesLimitReached": false,
       "aggType": "",
       "arguments": {},
       "columnCustomDisplayInfos": {},
       "data": [
        [
         "Advertisement",
         "Tiktok",
         8468296.72,
         1594
        ],
        [
         "Advertisement",
         "LinkedIn",
         8201682.779999994,
         1547
        ],
        [
         "Advertisement",
         "GoogleAds",
         8008076.360000008,
         1516
        ],
        [
         "Advertisement",
         "Meta",
         7987815.009999994,
         1510
        ],
        [
         "Retail",
         "GooglePlay",
         3454195.8199999994,
         478
        ]
       ],
       "datasetInfos": [],
       "dbfsResultPath": null,
       "isJsonSchema": true,
       "metadata": {},
       "overflow": false,
       "plotOptions": {
        "customPlotOptions": {},
        "displayType": "table",
        "pivotAggregation": null,
        "pivotColumns": null,
        "xColumns": null,
        "yColumns": null
       },
       "removedWidgets": [],
       "schema": [
        {
         "metadata": "{}",
         "name": "category",
         "type": "\"string\""
        },
        {
         "metadata": "{}",
         "name": "merchant",
         "type": "\"string\""
        },
        {
         "metadata": "{}",
         "name": "total_amount_aed",
         "type": "\"double\""
        },
        {
         "metadata": "{}",
         "name": "cnt",
         "type": "\"long\""
        }
       ],
       "type": "table"
      }
     },
     "output_type": "display_data"
    }
   ],
   "source": [
    "import pandas as pd\n",
    "import seaborn as sns\n",
    "import matplotlib.pyplot as plt\n",
    "from matplotlib.ticker import FuncFormatter\n",
    "\n",
    "# display(df_1_1.head())\n",
    "\n",
    "print('Summary Report with Insights')\n",
    "\n",
    "print('Question 1.1: What are the top spending categories across companies?')\n",
    "\n",
    "print('Answer 1.1: By finding the top spending category for each company, amount distribution for top spending category is as follows')\n",
    "\n",
    "# Aggregate total_amount_aed by most_spending_category\n",
    "category_totals = df_1_1.groupby('most_spending_category')['total_amount_aed'].sum().reset_index()\n",
    "\n",
    "# Function to format labels with amount and percentage\n",
    "def make_autopct(values):\n",
    "    def my_autopct(pct):\n",
    "        total = sum(values)\n",
    "        val = int(round(pct * total / 100.0))\n",
    "        return f'{pct:.1f}% (AED {val / 1e6:.2f}M)'\n",
    "    return my_autopct\n",
    "\n",
    "# Create pie chart\n",
    "plt.figure(figsize=(8, 6))\n",
    "plt.pie(\n",
    "    category_totals['total_amount_aed'],\n",
    "    labels=category_totals['most_spending_category'],\n",
    "    autopct=make_autopct(category_totals['total_amount_aed']),\n",
    "    colors=['#4c78a8','#0c7676'],\n",
    "    startangle=90,\n",
    "    textprops={'fontsize': 12}\n",
    ")\n",
    "plt.title('Spending Distribution of Mostly Used Category across Companies', fontsize=14, pad=15)\n",
    "plt.axis('equal')  # Equal aspect ratio ensures pie is circular\n",
    "\n",
    "# Save and show the plot\n",
    "plt.savefig('category_spending_pie_chart.png')\n",
    "plt.show()\n",
    "\n",
    "\n",
    "print('Question 1.2. Are there seasonal trends in spending?')\n",
    "print('Answer 1.2. There is significant increase in number of transactions on 2024-05 and 2024-10 and similarly for the spending amount 2024-07 and 2024-12, but on the other hand, there seems like there is no positive correlation between the number of transactions and total spending amount.')\n",
    "\n",
    "df_1_2['year_month'] = pd.to_datetime(df_1_2['year_month']).dt.strftime('%Y-%m')\n",
    "\n",
    "# Function to format y-axis in millions\n",
    "def millions_formatter(x, pos):\n",
    "    return f'{x / 1e6:.1f}M'\n",
    "\n",
    "# Create line chart\n",
    "fig, ax1 = plt.subplots(figsize=(8, 6))\n",
    "\n",
    "# Plot total_amount_aed\n",
    "ax1.plot(df_1_2['year_month'], df_1_2['total_amount_aed'], marker='o', color='#4c78a8', label='Total Amount (AED)')\n",
    "ax1.set_xlabel('Year-Month', fontsize=12)\n",
    "ax1.set_ylabel('Total Amount (AED)', fontsize=12, color='#4c78a8')\n",
    "ax1.yaxis.set_major_formatter(FuncFormatter(millions_formatter))\n",
    "ax1.tick_params(axis='y', labelcolor='#4c78a8')\n",
    "ax1.grid(True, linestyle='--', alpha=0.7)\n",
    "\n",
    "# Create secondary y-axis for cnt\n",
    "ax2 = ax1.twinx()\n",
    "ax2.plot(df_1_2['year_month'], df_1_2['cnt'], marker='s', color='#e06262', label='Transaction Count')\n",
    "ax2.set_ylabel('Transaction Count', fontsize=12, color='#e06262')\n",
    "ax2.tick_params(axis='y', labelcolor='#e06262')\n",
    "\n",
    "# Title and legend\n",
    "plt.title('Seasonal Spending Trends (2024)', fontsize=14, pad=15)\n",
    "fig.legend(loc='upper center', bbox_to_anchor=(0.5, -0.05), ncol=2)\n",
    "plt.tight_layout()\n",
    "\n",
    "# Save and show the plot\n",
    "plt.savefig('seasonality_line_chart.png')\n",
    "plt.show()\n",
    "# ax.text(1,1,\"my text\", ha=\"right\")\n",
    "\n",
    "print('Question 1.3: Which companies have unusually high spending?')\n",
    "print('Answer 1.3: By profiling the companies as per their average transation count or amount, we can find a way to assess whether there is an unusual pattern is being recorded, below you can find the top 5 highest unusual spending.')\n",
    "\n",
    "display(df_1_3.head())\n",
    "\n",
    "print('Question 2.1: Identify companies where a large percentage of transactions are in a foreign currency—could this indicate international misuse?')\n",
    "print('Answer 2.1: What is suspicious is not all the foreign currency transactions, it is suspicious if user never made local trassaction bu made only foreign transactions')\n",
    "\n",
    "# Aggregate total_amount_aed by most_spending_category\n",
    "category_totals = df_2_1.groupby('class')['cnt'].sum().reset_index()\n",
    "\n",
    "# Function to format labels with amount and percentage\n",
    "def make_autopct(values):\n",
    "    def my_autopct(pct):\n",
    "        total = sum(values)\n",
    "        val = int(round(pct * total / 100.0))\n",
    "        return f'{pct:.1f}%' # (AED {val / 1e6:.2f}M)'\n",
    "    return my_autopct\n",
    "\n",
    "# Create pie chart\n",
    "plt.figure(figsize=(8, 6))\n",
    "plt.pie(\n",
    "    category_totals['cnt'],\n",
    "    labels=category_totals['class'],\n",
    "    autopct=make_autopct(category_totals['cnt']),\n",
    "    colors=['#4c78a8','#0c7676'],\n",
    "    startangle=90,\n",
    "    textprops={'fontsize': 12}\n",
    ")\n",
    "plt.title('Distribution of Risk Assessment for Companies', fontsize=14, pad=15)\n",
    "plt.axis('equal')  # Equal aspect ratio ensures pie is circular\n",
    "\n",
    "# Save and show the plot\n",
    "plt.savefig('category_spending_pie_chart.png')\n",
    "plt.show()\n",
    "\n",
    "print('Question 2.2. Are there users transacting at a high rate with a single merchant?')\n",
    "print('Answer 2.2: Again, by creating profile for a user by checkign the previous trasnactions, hikes can be easily identified.')\n",
    "\n",
    "display(df_2_2.head())\n",
    "\n",
    "print('Question 2.3. Identify outlier transactions (e.g., transactions that are significantly larger than the norm) that are greater than 3x the interquartile range (IQR) from the median transaction value.')\n",
    "print('Answer 2.3: by using statistical calculations (approx_quantiles) some limits are being calculated, and according to this limit we identified the outlier.')\n",
    "\n",
    "display(df_2_3.head())\n",
    "\n",
    "print('Question 3.1. Based on spending patterns, which companies or industries could be ideal for upselling new financial products?')\n",
    "print('Answer 3.1: There is no direct correlation between the merchant/categories and financial products. Thats why, the companies which have spent the maximum amount and SaaS used companies can be ideal, as they are very keen on spending.')\n",
    "\n",
    "display(df_3_1.head())\n",
    "\n",
    "print('Question 3.2. If Pemo were to offer discounts or rewards, which categories/merchants would be the best to target?')\n",
    "print('Answer 3.2: Similarly, we have tracked the most spending merchant ant category transactions.')\n",
    "\n",
    "display(df_3_2.head())"
   ]
  }
 ],
 "metadata": {
  "application/vnd.databricks.v1+notebook": {
   "computePreferences": null,
   "dashboards": [],
   "environmentMetadata": {
    "base_environment": "",
    "environment_version": "1"
   },
   "inputWidgetPreferences": null,
   "language": "python",
   "notebookMetadata": {
    "pythonIndentUnit": 4
   },
   "notebookName": "AssessmentFintech",
   "widgets": {}
  },
  "language_info": {
   "name": "python"
  }
 },
 "nbformat": 4,
 "nbformat_minor": 0
}
